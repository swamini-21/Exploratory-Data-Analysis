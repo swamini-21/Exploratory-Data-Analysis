{
  "nbformat": 4,
  "nbformat_minor": 0,
  "metadata": {
    "colab": {
      "name": "TASK3.ipynb",
      "provenance": [],
      "collapsed_sections": [],
      "authorship_tag": "ABX9TyPY5UDloDLgxGKI8+U/Db5a",
      "include_colab_link": true
    },
    "kernelspec": {
      "name": "python3",
      "display_name": "Python 3"
    },
    "language_info": {
      "name": "python"
    }
  },
  "cells": [
    {
      "cell_type": "markdown",
      "metadata": {
        "id": "view-in-github",
        "colab_type": "text"
      },
      "source": [
        "<a href=\"https://colab.research.google.com/github/swamini-21/Exploratory-Data-Analysis/blob/main/TASK3.ipynb\" target=\"_parent\"><img src=\"https://colab.research.google.com/assets/colab-badge.svg\" alt=\"Open In Colab\"/></a>"
      ]
    },
    {
      "cell_type": "markdown",
      "metadata": {
        "id": "_Cgz69XK6oHe"
      },
      "source": [
        "# **The Sparks Foundation**"
      ]
    },
    {
      "cell_type": "markdown",
      "metadata": {
        "id": "0kUFh4eE7DkD"
      },
      "source": [
        "**NAME:Swamini Deepak Sontakke**"
      ]
    },
    {
      "cell_type": "markdown",
      "metadata": {
        "id": "yWHE4wBc7JS1"
      },
      "source": [
        "**Task 3:Exploratory Data Analysis on SampleSuperstore dataset **"
      ]
    },
    {
      "cell_type": "markdown",
      "metadata": {
        "id": "CPafK6iF7azL"
      },
      "source": [
        "## Importing necssary libraries"
      ]
    },
    {
      "cell_type": "code",
      "metadata": {
        "id": "VfvuZMpc71H-"
      },
      "source": [
        "%matplotlib inline\n",
        "import warnings\n",
        "import numpy as np\n",
        "import pandas as pd\n",
        "import matplotlib.pyplot as plt # for visualization\n",
        "import seaborn as sns # for visualization"
      ],
      "execution_count": 1,
      "outputs": []
    },
    {
      "cell_type": "markdown",
      "metadata": {
        "id": "3KmPW9Gm8JDn"
      },
      "source": [
        "# Importing data set"
      ]
    },
    {
      "cell_type": "code",
      "metadata": {
        "colab": {
          "base_uri": "https://localhost:8080/",
          "height": 204
        },
        "id": "6UEkrU3j8NPb",
        "outputId": "43a50564-e9d3-420b-a144-4ccb875cf9d6"
      },
      "source": [
        "df=pd.read_csv(\"/content/SampleSuperstore.csv\")\n",
        "df.head() # checking the data"
      ],
      "execution_count": 2,
      "outputs": [
        {
          "output_type": "execute_result",
          "data": {
            "text/html": [
              "<div>\n",
              "<style scoped>\n",
              "    .dataframe tbody tr th:only-of-type {\n",
              "        vertical-align: middle;\n",
              "    }\n",
              "\n",
              "    .dataframe tbody tr th {\n",
              "        vertical-align: top;\n",
              "    }\n",
              "\n",
              "    .dataframe thead th {\n",
              "        text-align: right;\n",
              "    }\n",
              "</style>\n",
              "<table border=\"1\" class=\"dataframe\">\n",
              "  <thead>\n",
              "    <tr style=\"text-align: right;\">\n",
              "      <th></th>\n",
              "      <th>Ship Mode</th>\n",
              "      <th>Segment</th>\n",
              "      <th>Country</th>\n",
              "      <th>City</th>\n",
              "      <th>State</th>\n",
              "      <th>Postal Code</th>\n",
              "      <th>Region</th>\n",
              "      <th>Category</th>\n",
              "      <th>Sub-Category</th>\n",
              "      <th>Sales</th>\n",
              "      <th>Quantity</th>\n",
              "      <th>Discount</th>\n",
              "      <th>Profit</th>\n",
              "    </tr>\n",
              "  </thead>\n",
              "  <tbody>\n",
              "    <tr>\n",
              "      <th>0</th>\n",
              "      <td>Second Class</td>\n",
              "      <td>Consumer</td>\n",
              "      <td>United States</td>\n",
              "      <td>Henderson</td>\n",
              "      <td>Kentucky</td>\n",
              "      <td>42420</td>\n",
              "      <td>South</td>\n",
              "      <td>Furniture</td>\n",
              "      <td>Bookcases</td>\n",
              "      <td>261.9600</td>\n",
              "      <td>2</td>\n",
              "      <td>0.00</td>\n",
              "      <td>41.9136</td>\n",
              "    </tr>\n",
              "    <tr>\n",
              "      <th>1</th>\n",
              "      <td>Second Class</td>\n",
              "      <td>Consumer</td>\n",
              "      <td>United States</td>\n",
              "      <td>Henderson</td>\n",
              "      <td>Kentucky</td>\n",
              "      <td>42420</td>\n",
              "      <td>South</td>\n",
              "      <td>Furniture</td>\n",
              "      <td>Chairs</td>\n",
              "      <td>731.9400</td>\n",
              "      <td>3</td>\n",
              "      <td>0.00</td>\n",
              "      <td>219.5820</td>\n",
              "    </tr>\n",
              "    <tr>\n",
              "      <th>2</th>\n",
              "      <td>Second Class</td>\n",
              "      <td>Corporate</td>\n",
              "      <td>United States</td>\n",
              "      <td>Los Angeles</td>\n",
              "      <td>California</td>\n",
              "      <td>90036</td>\n",
              "      <td>West</td>\n",
              "      <td>Office Supplies</td>\n",
              "      <td>Labels</td>\n",
              "      <td>14.6200</td>\n",
              "      <td>2</td>\n",
              "      <td>0.00</td>\n",
              "      <td>6.8714</td>\n",
              "    </tr>\n",
              "    <tr>\n",
              "      <th>3</th>\n",
              "      <td>Standard Class</td>\n",
              "      <td>Consumer</td>\n",
              "      <td>United States</td>\n",
              "      <td>Fort Lauderdale</td>\n",
              "      <td>Florida</td>\n",
              "      <td>33311</td>\n",
              "      <td>South</td>\n",
              "      <td>Furniture</td>\n",
              "      <td>Tables</td>\n",
              "      <td>957.5775</td>\n",
              "      <td>5</td>\n",
              "      <td>0.45</td>\n",
              "      <td>-383.0310</td>\n",
              "    </tr>\n",
              "    <tr>\n",
              "      <th>4</th>\n",
              "      <td>Standard Class</td>\n",
              "      <td>Consumer</td>\n",
              "      <td>United States</td>\n",
              "      <td>Fort Lauderdale</td>\n",
              "      <td>Florida</td>\n",
              "      <td>33311</td>\n",
              "      <td>South</td>\n",
              "      <td>Office Supplies</td>\n",
              "      <td>Storage</td>\n",
              "      <td>22.3680</td>\n",
              "      <td>2</td>\n",
              "      <td>0.20</td>\n",
              "      <td>2.5164</td>\n",
              "    </tr>\n",
              "  </tbody>\n",
              "</table>\n",
              "</div>"
            ],
            "text/plain": [
              "        Ship Mode    Segment        Country  ... Quantity Discount    Profit\n",
              "0    Second Class   Consumer  United States  ...        2     0.00   41.9136\n",
              "1    Second Class   Consumer  United States  ...        3     0.00  219.5820\n",
              "2    Second Class  Corporate  United States  ...        2     0.00    6.8714\n",
              "3  Standard Class   Consumer  United States  ...        5     0.45 -383.0310\n",
              "4  Standard Class   Consumer  United States  ...        2     0.20    2.5164\n",
              "\n",
              "[5 rows x 13 columns]"
            ]
          },
          "metadata": {},
          "execution_count": 2
        }
      ]
    },
    {
      "cell_type": "code",
      "metadata": {
        "colab": {
          "base_uri": "https://localhost:8080/"
        },
        "id": "t25nwbpj-A1J",
        "outputId": "5d2c1b77-8ec0-40d7-ff99-b44b3bf09883"
      },
      "source": [
        "df.shape # getting no of rows and columns"
      ],
      "execution_count": 3,
      "outputs": [
        {
          "output_type": "execute_result",
          "data": {
            "text/plain": [
              "(9994, 13)"
            ]
          },
          "metadata": {},
          "execution_count": 3
        }
      ]
    },
    {
      "cell_type": "markdown",
      "metadata": {
        "id": "3yr7fssOdIgz"
      },
      "source": [
        "# Checking For Null Values"
      ]
    },
    {
      "cell_type": "code",
      "metadata": {
        "colab": {
          "base_uri": "https://localhost:8080/"
        },
        "id": "KfEEMlV5-Tkh",
        "outputId": "8d90c4d4-323e-4ce6-eadd-6306ca593240"
      },
      "source": [
        "df.info()"
      ],
      "execution_count": 4,
      "outputs": [
        {
          "output_type": "stream",
          "text": [
            "<class 'pandas.core.frame.DataFrame'>\n",
            "RangeIndex: 9994 entries, 0 to 9993\n",
            "Data columns (total 13 columns):\n",
            " #   Column        Non-Null Count  Dtype  \n",
            "---  ------        --------------  -----  \n",
            " 0   Ship Mode     9994 non-null   object \n",
            " 1   Segment       9994 non-null   object \n",
            " 2   Country       9994 non-null   object \n",
            " 3   City          9994 non-null   object \n",
            " 4   State         9994 non-null   object \n",
            " 5   Postal Code   9994 non-null   int64  \n",
            " 6   Region        9994 non-null   object \n",
            " 7   Category      9994 non-null   object \n",
            " 8   Sub-Category  9994 non-null   object \n",
            " 9   Sales         9994 non-null   float64\n",
            " 10  Quantity      9994 non-null   int64  \n",
            " 11  Discount      9994 non-null   float64\n",
            " 12  Profit        9994 non-null   float64\n",
            "dtypes: float64(3), int64(2), object(8)\n",
            "memory usage: 1015.1+ KB\n"
          ],
          "name": "stdout"
        }
      ]
    },
    {
      "cell_type": "markdown",
      "metadata": {
        "id": "OIF0W7yU-pZO"
      },
      "source": [
        "##### Since there are 9994 rows and 9994 non null values,we can say that dataset does not have any null values"
      ]
    },
    {
      "cell_type": "code",
      "metadata": {
        "colab": {
          "base_uri": "https://localhost:8080/",
          "height": 344
        },
        "id": "AqGqI8pK-3V0",
        "outputId": "992c34b9-0cf2-4e1e-b0b1-5ba37ccdd49d"
      },
      "source": [
        "# using heatmap to check null values\n",
        "sns.heatmap(df.isnull(), cbar=False)"
      ],
      "execution_count": 5,
      "outputs": [
        {
          "output_type": "execute_result",
          "data": {
            "text/plain": [
              "<matplotlib.axes._subplots.AxesSubplot at 0x7f9a7f5f7510>"
            ]
          },
          "metadata": {},
          "execution_count": 5
        },
        {
          "output_type": "display_data",
          "data": {
            "image/png": "[encoded data removed]",
            "text/plain": [
              "<Figure size 432x288 with 1 Axes>"
            ]
          },
          "metadata": {
            "needs_background": "light"
          }
        }
      ]
    },
    {
      "cell_type": "markdown",
      "metadata": {
        "id": "-GJuu2aQ_Qdc"
      },
      "source": [
        "##### From the heatmap we confirm that there are no null values present"
      ]
    },
    {
      "cell_type": "markdown",
      "metadata": {
        "id": "dUvf20f4BRBQ"
      },
      "source": [
        "# Checking For Duplicate Values"
      ]
    },
    {
      "cell_type": "code",
      "metadata": {
        "colab": {
          "base_uri": "https://localhost:8080/"
        },
        "id": "B4SUHgvPBSmJ",
        "outputId": "4ee95f4d-790c-4244-8b26-8c0c0092f872"
      },
      "source": [
        "df.duplicated().sum()"
      ],
      "execution_count": 6,
      "outputs": [
        {
          "output_type": "execute_result",
          "data": {
            "text/plain": [
              "17"
            ]
          },
          "metadata": {},
          "execution_count": 6
        }
      ]
    },
    {
      "cell_type": "code",
      "metadata": {
        "colab": {
          "base_uri": "https://localhost:8080/"
        },
        "id": "2nPkEWfbB3uQ",
        "outputId": "15ab96d5-e0d1-44e1-847c-89c8956f3fda"
      },
      "source": [
        "# since we have duplicate values, lets remove them\n",
        "df.drop_duplicates(subset=None,keep='first',inplace=True)\n",
        "df.duplicated().sum() # checking after removal of duplicates"
      ],
      "execution_count": 7,
      "outputs": [
        {
          "output_type": "execute_result",
          "data": {
            "text/plain": [
              "0"
            ]
          },
          "metadata": {},
          "execution_count": 7
        }
      ]
    },
    {
      "cell_type": "code",
      "metadata": {
        "id": "3_3AbxhuF1l5"
      },
      "source": [
        "df = df.drop(['Postal Code'],axis = 1)    #dropping postal code columns"
      ],
      "execution_count": 8,
      "outputs": []
    },
    {
      "cell_type": "code",
      "metadata": {
        "colab": {
          "base_uri": "https://localhost:8080/"
        },
        "id": "3vJhPxS3DBr3",
        "outputId": "eeb3392b-1147-49e5-df5f-ce16a6415647"
      },
      "source": [
        "df.shape"
      ],
      "execution_count": 9,
      "outputs": [
        {
          "output_type": "execute_result",
          "data": {
            "text/plain": [
              "(9977, 12)"
            ]
          },
          "metadata": {},
          "execution_count": 9
        }
      ]
    },
    {
      "cell_type": "markdown",
      "metadata": {
        "id": "T6pGFdpxGewW"
      },
      "source": [
        "##### so after removal of duplicate rows and the postal code column, rows have reduced form 9994 to 9977 and columns have reduced from 13 to 12\n"
      ]
    },
    {
      "cell_type": "markdown",
      "metadata": {
        "id": "FvSM8K5ydm19"
      },
      "source": [
        "# Checking Sales & Profit of Products Dependig On various Factors"
      ]
    },
    {
      "cell_type": "markdown",
      "metadata": {
        "id": "qk7ldYovaYw3"
      },
      "source": [
        "#### Sales and Profit of products depending on the Category of products "
      ]
    },
    {
      "cell_type": "code",
      "metadata": {
        "colab": {
          "base_uri": "https://localhost:8080/",
          "height": 227
        },
        "id": "hD0MOH51KeHs",
        "outputId": "e33f36b8-7eaf-4370-b334-c376795c350d"
      },
      "source": [
        "sale_profit_sum_cat = df.groupby('Category')['Sales','Profit'].sum()\n",
        "sale_profit_sum_cat"
      ],
      "execution_count": 10,
      "outputs": [
        {
          "output_type": "stream",
          "text": [
            "/usr/local/lib/python3.7/dist-packages/ipykernel_launcher.py:1: FutureWarning: Indexing with multiple keys (implicitly converted to a tuple of keys) will be deprecated, use a list instead.\n",
            "  \"\"\"Entry point for launching an IPython kernel.\n"
          ],
          "name": "stderr"
        },
        {
          "output_type": "execute_result",
          "data": {
            "text/html": [
              "<div>\n",
              "<style scoped>\n",
              "    .dataframe tbody tr th:only-of-type {\n",
              "        vertical-align: middle;\n",
              "    }\n",
              "\n",
              "    .dataframe tbody tr th {\n",
              "        vertical-align: top;\n",
              "    }\n",
              "\n",
              "    .dataframe thead th {\n",
              "        text-align: right;\n",
              "    }\n",
              "</style>\n",
              "<table border=\"1\" class=\"dataframe\">\n",
              "  <thead>\n",
              "    <tr style=\"text-align: right;\">\n",
              "      <th></th>\n",
              "      <th>Sales</th>\n",
              "      <th>Profit</th>\n",
              "    </tr>\n",
              "    <tr>\n",
              "      <th>Category</th>\n",
              "      <th></th>\n",
              "      <th></th>\n",
              "    </tr>\n",
              "  </thead>\n",
              "  <tbody>\n",
              "    <tr>\n",
              "      <th>Furniture</th>\n",
              "      <td>741306.3133</td>\n",
              "      <td>18421.8137</td>\n",
              "    </tr>\n",
              "    <tr>\n",
              "      <th>Office Supplies</th>\n",
              "      <td>718735.2440</td>\n",
              "      <td>122364.6608</td>\n",
              "    </tr>\n",
              "    <tr>\n",
              "      <th>Technology</th>\n",
              "      <td>836154.0330</td>\n",
              "      <td>145454.9481</td>\n",
              "    </tr>\n",
              "  </tbody>\n",
              "</table>\n",
              "</div>"
            ],
            "text/plain": [
              "                       Sales       Profit\n",
              "Category                                 \n",
              "Furniture        741306.3133   18421.8137\n",
              "Office Supplies  718735.2440  122364.6608\n",
              "Technology       836154.0330  145454.9481"
            ]
          },
          "metadata": {},
          "execution_count": 10
        }
      ]
    },
    {
      "cell_type": "code",
      "metadata": {
        "colab": {
          "base_uri": "https://localhost:8080/",
          "height": 703
        },
        "id": "7qVwp0LfLQA5",
        "outputId": "c658fcd9-1e3c-49c4-bde7-f8016d9c8f92"
      },
      "source": [
        "# visualizing above result\n",
        "sale_profit_sum_cat.plot.bar(figsize = (10,10),title = \"Category Vs Sales and Profit\")\n",
        "plt.ylabel(\"Sales and Profit\")"
      ],
      "execution_count": 12,
      "outputs": [
        {
          "output_type": "execute_result",
          "data": {
            "text/plain": [
              "Text(0, 0.5, 'Sales and Profit')"
            ]
          },
          "metadata": {},
          "execution_count": 12
        },
        {
          "output_type": "display_data",
          "data": {
            "image/png": "[encoded data removed]",
            "text/plain": [
              "<Figure size 720x720 with 1 Axes>"
            ]
          },
          "metadata": {
            "needs_background": "light"
          }
        }
      ]
    },
    {
      "cell_type": "markdown",
      "metadata": {
        "id": "4bsdaAMvLmRz"
      },
      "source": [
        "##### **Observation 1:**We observe that Technology and Furniture Categories have the Highest Sales, but Office Supplies and Technology have higher Profit\n"
      ]
    },
    {
      "cell_type": "markdown",
      "metadata": {
        "id": "d7xqv7tNaOyZ"
      },
      "source": [
        "##### Lets take a look at the sub categories of products"
      ]
    },
    {
      "cell_type": "code",
      "metadata": {
        "colab": {
          "base_uri": "https://localhost:8080/",
          "height": 623
        },
        "id": "ASMpG9E3I0L9",
        "outputId": "c4191c8a-1938-4e52-d858-a67f16091d66"
      },
      "source": [
        "plt.figure(figsize=(20,10))\n",
        "sns.countplot(x=df['Sub-Category']) # Checking for sub-category of products"
      ],
      "execution_count": 13,
      "outputs": [
        {
          "output_type": "execute_result",
          "data": {
            "text/plain": [
              "<matplotlib.axes._subplots.AxesSubplot at 0x7f9a4464f890>"
            ]
          },
          "metadata": {},
          "execution_count": 13
        },
        {
          "output_type": "display_data",
          "data": {
            "image/png": "[encoded data removed]",
            "text/plain": [
              "<Figure size 1440x720 with 1 Axes>"
            ]
          },
          "metadata": {
            "needs_background": "light"
          }
        }
      ]
    },
    {
      "cell_type": "markdown",
      "metadata": {
        "id": "B6FaZ-SAeCWb"
      },
      "source": [
        "#### Sales and Profit of products depending on the Sub-Category of products"
      ]
    },
    {
      "cell_type": "code",
      "metadata": {
        "colab": {
          "base_uri": "https://localhost:8080/",
          "height": 661
        },
        "id": "OSS4wsRAL4CZ",
        "outputId": "c28a2ef5-f143-4888-809b-7daedc809498"
      },
      "source": [
        "sale_profit_sum_subcat = df.groupby('Sub-Category')['Sales','Profit'].sum()\n",
        "sale_profit_sum_subcat"
      ],
      "execution_count": 14,
      "outputs": [
        {
          "output_type": "stream",
          "text": [
            "/usr/local/lib/python3.7/dist-packages/ipykernel_launcher.py:1: FutureWarning: Indexing with multiple keys (implicitly converted to a tuple of keys) will be deprecated, use a list instead.\n",
            "  \"\"\"Entry point for launching an IPython kernel.\n"
          ],
          "name": "stderr"
        },
        {
          "output_type": "execute_result",
          "data": {
            "text/html": [
              "<div>\n",
              "<style scoped>\n",
              "    .dataframe tbody tr th:only-of-type {\n",
              "        vertical-align: middle;\n",
              "    }\n",
              "\n",
              "    .dataframe tbody tr th {\n",
              "        vertical-align: top;\n",
              "    }\n",
              "\n",
              "    .dataframe thead th {\n",
              "        text-align: right;\n",
              "    }\n",
              "</style>\n",
              "<table border=\"1\" class=\"dataframe\">\n",
              "  <thead>\n",
              "    <tr style=\"text-align: right;\">\n",
              "      <th></th>\n",
              "      <th>Sales</th>\n",
              "      <th>Profit</th>\n",
              "    </tr>\n",
              "    <tr>\n",
              "      <th>Sub-Category</th>\n",
              "      <th></th>\n",
              "      <th></th>\n",
              "    </tr>\n",
              "  </thead>\n",
              "  <tbody>\n",
              "    <tr>\n",
              "      <th>Accessories</th>\n",
              "      <td>167380.3180</td>\n",
              "      <td>41936.6357</td>\n",
              "    </tr>\n",
              "    <tr>\n",
              "      <th>Appliances</th>\n",
              "      <td>107532.1610</td>\n",
              "      <td>18138.0054</td>\n",
              "    </tr>\n",
              "    <tr>\n",
              "      <th>Art</th>\n",
              "      <td>27107.0320</td>\n",
              "      <td>6524.6118</td>\n",
              "    </tr>\n",
              "    <tr>\n",
              "      <th>Binders</th>\n",
              "      <td>203409.1690</td>\n",
              "      <td>30228.0003</td>\n",
              "    </tr>\n",
              "    <tr>\n",
              "      <th>Bookcases</th>\n",
              "      <td>114879.9963</td>\n",
              "      <td>-3472.5560</td>\n",
              "    </tr>\n",
              "    <tr>\n",
              "      <th>Chairs</th>\n",
              "      <td>327777.7610</td>\n",
              "      <td>26567.1278</td>\n",
              "    </tr>\n",
              "    <tr>\n",
              "      <th>Copiers</th>\n",
              "      <td>149528.0300</td>\n",
              "      <td>55617.8249</td>\n",
              "    </tr>\n",
              "    <tr>\n",
              "      <th>Envelopes</th>\n",
              "      <td>16476.4020</td>\n",
              "      <td>6964.1767</td>\n",
              "    </tr>\n",
              "    <tr>\n",
              "      <th>Fasteners</th>\n",
              "      <td>3024.2800</td>\n",
              "      <td>949.5182</td>\n",
              "    </tr>\n",
              "    <tr>\n",
              "      <th>Furnishings</th>\n",
              "      <td>91683.0240</td>\n",
              "      <td>13052.7230</td>\n",
              "    </tr>\n",
              "    <tr>\n",
              "      <th>Labels</th>\n",
              "      <td>12444.9120</td>\n",
              "      <td>5526.3820</td>\n",
              "    </tr>\n",
              "    <tr>\n",
              "      <th>Machines</th>\n",
              "      <td>189238.6310</td>\n",
              "      <td>3384.7569</td>\n",
              "    </tr>\n",
              "    <tr>\n",
              "      <th>Paper</th>\n",
              "      <td>78224.1420</td>\n",
              "      <td>33944.2395</td>\n",
              "    </tr>\n",
              "    <tr>\n",
              "      <th>Phones</th>\n",
              "      <td>330007.0540</td>\n",
              "      <td>44515.7306</td>\n",
              "    </tr>\n",
              "    <tr>\n",
              "      <th>Storage</th>\n",
              "      <td>223843.6080</td>\n",
              "      <td>21278.8264</td>\n",
              "    </tr>\n",
              "    <tr>\n",
              "      <th>Supplies</th>\n",
              "      <td>46673.5380</td>\n",
              "      <td>-1189.0995</td>\n",
              "    </tr>\n",
              "    <tr>\n",
              "      <th>Tables</th>\n",
              "      <td>206965.5320</td>\n",
              "      <td>-17725.4811</td>\n",
              "    </tr>\n",
              "  </tbody>\n",
              "</table>\n",
              "</div>"
            ],
            "text/plain": [
              "                    Sales      Profit\n",
              "Sub-Category                         \n",
              "Accessories   167380.3180  41936.6357\n",
              "Appliances    107532.1610  18138.0054\n",
              "Art            27107.0320   6524.6118\n",
              "Binders       203409.1690  30228.0003\n",
              "Bookcases     114879.9963  -3472.5560\n",
              "Chairs        327777.7610  26567.1278\n",
              "Copiers       149528.0300  55617.8249\n",
              "Envelopes      16476.4020   6964.1767\n",
              "Fasteners       3024.2800    949.5182\n",
              "Furnishings    91683.0240  13052.7230\n",
              "Labels         12444.9120   5526.3820\n",
              "Machines      189238.6310   3384.7569\n",
              "Paper          78224.1420  33944.2395\n",
              "Phones        330007.0540  44515.7306\n",
              "Storage       223843.6080  21278.8264\n",
              "Supplies       46673.5380  -1189.0995\n",
              "Tables        206965.5320 -17725.4811"
            ]
          },
          "metadata": {},
          "execution_count": 14
        }
      ]
    },
    {
      "cell_type": "code",
      "metadata": {
        "colab": {
          "base_uri": "https://localhost:8080/",
          "height": 687
        },
        "id": "8nX4nsZmMGAJ",
        "outputId": "b8e0813e-0e17-48d4-b574-389ce3b38176"
      },
      "source": [
        "# visualizing above result\n",
        "sale_profit_sum_subcat.plot.bar(figsize = (20,10),title = \"Category Vs Sales and Profit\")\n",
        "plt.ylabel(\"Sales and Profit\")"
      ],
      "execution_count": 16,
      "outputs": [
        {
          "output_type": "execute_result",
          "data": {
            "text/plain": [
              "Text(0, 0.5, 'Sales and Profit')"
            ]
          },
          "metadata": {},
          "execution_count": 16
        },
        {
          "output_type": "display_data",
          "data": {
            "image/png": "[encoded data removed]",
            "text/plain": [
              "<Figure size 1440x720 with 1 Axes>"
            ]
          },
          "metadata": {
            "needs_background": "light"
          }
        }
      ]
    },
    {
      "cell_type": "markdown",
      "metadata": {
        "id": "KDo_RHa_MMaV"
      },
      "source": [
        "##### **Observation 2**: a)Phones and chairs sub category have the highest sales, but profit for Phones id greater than that of chairs.Also copiers have less sale but profit is more.\n",
        "##### b) Tables and Bookcases face a huge loses \n"
      ]
    },
    {
      "cell_type": "markdown",
      "metadata": {
        "id": "G4eh-sGpeagx"
      },
      "source": [
        "#### Sales and Profit of products depending on the Region of purchase"
      ]
    },
    {
      "cell_type": "code",
      "metadata": {
        "colab": {
          "base_uri": "https://localhost:8080/",
          "height": 258
        },
        "id": "w6NKseTjJBCx",
        "outputId": "ab11002f-6280-4bea-cd29-bbfd2a0bc5a4"
      },
      "source": [
        "sale_profit_sum_reg = df.groupby('Region')['Sales','Profit'].sum()\n",
        "sale_profit_sum_reg"
      ],
      "execution_count": 17,
      "outputs": [
        {
          "output_type": "stream",
          "text": [
            "/usr/local/lib/python3.7/dist-packages/ipykernel_launcher.py:1: FutureWarning: Indexing with multiple keys (implicitly converted to a tuple of keys) will be deprecated, use a list instead.\n",
            "  \"\"\"Entry point for launching an IPython kernel.\n"
          ],
          "name": "stderr"
        },
        {
          "output_type": "execute_result",
          "data": {
            "text/html": [
              "<div>\n",
              "<style scoped>\n",
              "    .dataframe tbody tr th:only-of-type {\n",
              "        vertical-align: middle;\n",
              "    }\n",
              "\n",
              "    .dataframe tbody tr th {\n",
              "        vertical-align: top;\n",
              "    }\n",
              "\n",
              "    .dataframe thead th {\n",
              "        text-align: right;\n",
              "    }\n",
              "</style>\n",
              "<table border=\"1\" class=\"dataframe\">\n",
              "  <thead>\n",
              "    <tr style=\"text-align: right;\">\n",
              "      <th></th>\n",
              "      <th>Sales</th>\n",
              "      <th>Profit</th>\n",
              "    </tr>\n",
              "    <tr>\n",
              "      <th>Region</th>\n",
              "      <th></th>\n",
              "      <th></th>\n",
              "    </tr>\n",
              "  </thead>\n",
              "  <tbody>\n",
              "    <tr>\n",
              "      <th>Central</th>\n",
              "      <td>500782.8528</td>\n",
              "      <td>39655.8752</td>\n",
              "    </tr>\n",
              "    <tr>\n",
              "      <th>East</th>\n",
              "      <td>678435.1960</td>\n",
              "      <td>91506.3092</td>\n",
              "    </tr>\n",
              "    <tr>\n",
              "      <th>South</th>\n",
              "      <td>391721.9050</td>\n",
              "      <td>46749.4303</td>\n",
              "    </tr>\n",
              "    <tr>\n",
              "      <th>West</th>\n",
              "      <td>725255.6365</td>\n",
              "      <td>108329.8079</td>\n",
              "    </tr>\n",
              "  </tbody>\n",
              "</table>\n",
              "</div>"
            ],
            "text/plain": [
              "               Sales       Profit\n",
              "Region                           \n",
              "Central  500782.8528   39655.8752\n",
              "East     678435.1960   91506.3092\n",
              "South    391721.9050   46749.4303\n",
              "West     725255.6365  108329.8079"
            ]
          },
          "metadata": {},
          "execution_count": 17
        }
      ]
    },
    {
      "cell_type": "code",
      "metadata": {
        "colab": {
          "base_uri": "https://localhost:8080/",
          "height": 665
        },
        "id": "oEC-qYuFLQpN",
        "outputId": "67c38acf-ae51-4337-c648-603b99c66c27"
      },
      "source": [
        "# visualizing above result\n",
        "sale_profit_sum_reg.plot.bar(figsize = (10,10),title = \"Region Vs Sales and Profit\")\n",
        "plt.ylabel(\"Sales and Profit\")"
      ],
      "execution_count": 18,
      "outputs": [
        {
          "output_type": "execute_result",
          "data": {
            "text/plain": [
              "Text(0, 0.5, 'Sales and Profit')"
            ]
          },
          "metadata": {},
          "execution_count": 18
        },
        {
          "output_type": "display_data",
          "data": {
            "image/png": "[encoded data removed]",
            "text/plain": [
              "<Figure size 720x720 with 1 Axes>"
            ]
          },
          "metadata": {
            "needs_background": "light"
          }
        }
      ]
    },
    {
      "cell_type": "markdown",
      "metadata": {
        "id": "7HT2ayagLxbC"
      },
      "source": [
        "##### **observation 3:**Sales and Profit is more in the West and the East region,and low in the central and South region"
      ]
    },
    {
      "cell_type": "markdown",
      "metadata": {
        "id": "wbSdltMperqu"
      },
      "source": [
        "#### Lets Check out the states "
      ]
    },
    {
      "cell_type": "code",
      "metadata": {
        "colab": {
          "base_uri": "https://localhost:8080/",
          "height": 803
        },
        "id": "SSNAt7fcMyl9",
        "outputId": "70e63f41-f13d-4ab5-a1fa-b9b3fabe0641"
      },
      "source": [
        "plt.figure(figsize=(15,12))\n",
        "sns.countplot(x='State',data=df,order=df['State'].value_counts().index)\n",
        "plt.xticks(rotation=90)\n",
        "plt.show()"
      ],
      "execution_count": 19,
      "outputs": [
        {
          "output_type": "display_data",
          "data": {
            "image/png": "[encoded data removed]",
            "text/plain": [
              "<Figure size 1080x864 with 1 Axes>"
            ]
          },
          "metadata": {
            "needs_background": "light"
          }
        }
      ]
    },
    {
      "cell_type": "markdown",
      "metadata": {
        "id": "P_tzQTjuNBoC"
      },
      "source": [
        "##### **Observation 4:**More no of buyers are from California & New York whereas its least in West Virgnia & Wyoming"
      ]
    },
    {
      "cell_type": "markdown",
      "metadata": {
        "id": "FktWBrI_fExW"
      },
      "source": [
        "#### Sales and Profit of products depending on the State from which purchase is made"
      ]
    },
    {
      "cell_type": "code",
      "metadata": {
        "colab": {
          "base_uri": "https://localhost:8080/",
          "height": 1000
        },
        "id": "NSyExS4rO-8Y",
        "outputId": "a377b109-6a08-4257-bdb6-442754d68355"
      },
      "source": [
        "sale_profit_sum_state = df.groupby('State')['Sales','Profit'].sum()\n",
        "sale_profit_sum_state"
      ],
      "execution_count": 20,
      "outputs": [
        {
          "output_type": "stream",
          "text": [
            "/usr/local/lib/python3.7/dist-packages/ipykernel_launcher.py:1: FutureWarning: Indexing with multiple keys (implicitly converted to a tuple of keys) will be deprecated, use a list instead.\n",
            "  \"\"\"Entry point for launching an IPython kernel.\n"
          ],
          "name": "stderr"
        },
        {
          "output_type": "execute_result",
          "data": {
            "text/html": [
              "<div>\n",
              "<style scoped>\n",
              "    .dataframe tbody tr th:only-of-type {\n",
              "        vertical-align: middle;\n",
              "    }\n",
              "\n",
              "    .dataframe tbody tr th {\n",
              "        vertical-align: top;\n",
              "    }\n",
              "\n",
              "    .dataframe thead th {\n",
              "        text-align: right;\n",
              "    }\n",
              "</style>\n",
              "<table border=\"1\" class=\"dataframe\">\n",
              "  <thead>\n",
              "    <tr style=\"text-align: right;\">\n",
              "      <th></th>\n",
              "      <th>Sales</th>\n",
              "      <th>Profit</th>\n",
              "    </tr>\n",
              "    <tr>\n",
              "      <th>State</th>\n",
              "      <th></th>\n",
              "      <th></th>\n",
              "    </tr>\n",
              "  </thead>\n",
              "  <tbody>\n",
              "    <tr>\n",
              "      <th>Alabama</th>\n",
              "      <td>19510.6400</td>\n",
              "      <td>5786.8253</td>\n",
              "    </tr>\n",
              "    <tr>\n",
              "      <th>Arizona</th>\n",
              "      <td>35282.0010</td>\n",
              "      <td>-3427.9246</td>\n",
              "    </tr>\n",
              "    <tr>\n",
              "      <th>Arkansas</th>\n",
              "      <td>11678.1300</td>\n",
              "      <td>4008.6871</td>\n",
              "    </tr>\n",
              "    <tr>\n",
              "      <th>California</th>\n",
              "      <td>457576.2715</td>\n",
              "      <td>76330.7891</td>\n",
              "    </tr>\n",
              "    <tr>\n",
              "      <th>Colorado</th>\n",
              "      <td>32108.1180</td>\n",
              "      <td>-6527.8579</td>\n",
              "    </tr>\n",
              "    <tr>\n",
              "      <th>Connecticut</th>\n",
              "      <td>13384.3570</td>\n",
              "      <td>3511.4918</td>\n",
              "    </tr>\n",
              "    <tr>\n",
              "      <th>Delaware</th>\n",
              "      <td>27451.0690</td>\n",
              "      <td>9977.3748</td>\n",
              "    </tr>\n",
              "    <tr>\n",
              "      <th>District of Columbia</th>\n",
              "      <td>2865.0200</td>\n",
              "      <td>1059.5893</td>\n",
              "    </tr>\n",
              "    <tr>\n",
              "      <th>Florida</th>\n",
              "      <td>89473.7080</td>\n",
              "      <td>-3399.3017</td>\n",
              "    </tr>\n",
              "    <tr>\n",
              "      <th>Georgia</th>\n",
              "      <td>49095.8400</td>\n",
              "      <td>16250.0433</td>\n",
              "    </tr>\n",
              "    <tr>\n",
              "      <th>Idaho</th>\n",
              "      <td>4382.4860</td>\n",
              "      <td>826.7231</td>\n",
              "    </tr>\n",
              "    <tr>\n",
              "      <th>Illinois</th>\n",
              "      <td>80162.5370</td>\n",
              "      <td>-12601.6500</td>\n",
              "    </tr>\n",
              "    <tr>\n",
              "      <th>Indiana</th>\n",
              "      <td>53555.3600</td>\n",
              "      <td>18382.9363</td>\n",
              "    </tr>\n",
              "    <tr>\n",
              "      <th>Iowa</th>\n",
              "      <td>4579.7600</td>\n",
              "      <td>1183.8119</td>\n",
              "    </tr>\n",
              "    <tr>\n",
              "      <th>Kansas</th>\n",
              "      <td>2914.3100</td>\n",
              "      <td>836.4435</td>\n",
              "    </tr>\n",
              "    <tr>\n",
              "      <th>Kentucky</th>\n",
              "      <td>36591.7500</td>\n",
              "      <td>11199.6966</td>\n",
              "    </tr>\n",
              "    <tr>\n",
              "      <th>Louisiana</th>\n",
              "      <td>9217.0300</td>\n",
              "      <td>2196.1023</td>\n",
              "    </tr>\n",
              "    <tr>\n",
              "      <th>Maine</th>\n",
              "      <td>1270.5300</td>\n",
              "      <td>454.4862</td>\n",
              "    </tr>\n",
              "    <tr>\n",
              "      <th>Maryland</th>\n",
              "      <td>23705.5230</td>\n",
              "      <td>7031.1788</td>\n",
              "    </tr>\n",
              "    <tr>\n",
              "      <th>Massachusetts</th>\n",
              "      <td>28634.4340</td>\n",
              "      <td>6785.5016</td>\n",
              "    </tr>\n",
              "    <tr>\n",
              "      <th>Michigan</th>\n",
              "      <td>75879.6440</td>\n",
              "      <td>24428.0903</td>\n",
              "    </tr>\n",
              "    <tr>\n",
              "      <th>Minnesota</th>\n",
              "      <td>29863.1500</td>\n",
              "      <td>10823.1874</td>\n",
              "    </tr>\n",
              "    <tr>\n",
              "      <th>Mississippi</th>\n",
              "      <td>10771.3400</td>\n",
              "      <td>3172.9762</td>\n",
              "    </tr>\n",
              "    <tr>\n",
              "      <th>Missouri</th>\n",
              "      <td>22205.1500</td>\n",
              "      <td>6436.2105</td>\n",
              "    </tr>\n",
              "    <tr>\n",
              "      <th>Montana</th>\n",
              "      <td>5589.3520</td>\n",
              "      <td>1833.3285</td>\n",
              "    </tr>\n",
              "    <tr>\n",
              "      <th>Nebraska</th>\n",
              "      <td>7464.9300</td>\n",
              "      <td>2037.0942</td>\n",
              "    </tr>\n",
              "    <tr>\n",
              "      <th>Nevada</th>\n",
              "      <td>16729.1020</td>\n",
              "      <td>3316.7659</td>\n",
              "    </tr>\n",
              "    <tr>\n",
              "      <th>New Hampshire</th>\n",
              "      <td>7292.5240</td>\n",
              "      <td>1706.5028</td>\n",
              "    </tr>\n",
              "    <tr>\n",
              "      <th>New Jersey</th>\n",
              "      <td>35764.3120</td>\n",
              "      <td>9772.9138</td>\n",
              "    </tr>\n",
              "    <tr>\n",
              "      <th>New Mexico</th>\n",
              "      <td>4783.5220</td>\n",
              "      <td>1157.1161</td>\n",
              "    </tr>\n",
              "    <tr>\n",
              "      <th>New York</th>\n",
              "      <td>310827.1510</td>\n",
              "      <td>74015.4622</td>\n",
              "    </tr>\n",
              "    <tr>\n",
              "      <th>North Carolina</th>\n",
              "      <td>55603.1640</td>\n",
              "      <td>-7490.9122</td>\n",
              "    </tr>\n",
              "    <tr>\n",
              "      <th>North Dakota</th>\n",
              "      <td>919.9100</td>\n",
              "      <td>230.1497</td>\n",
              "    </tr>\n",
              "    <tr>\n",
              "      <th>Ohio</th>\n",
              "      <td>77976.7640</td>\n",
              "      <td>-16959.3178</td>\n",
              "    </tr>\n",
              "    <tr>\n",
              "      <th>Oklahoma</th>\n",
              "      <td>19683.3900</td>\n",
              "      <td>4853.9560</td>\n",
              "    </tr>\n",
              "    <tr>\n",
              "      <th>Oregon</th>\n",
              "      <td>17420.7820</td>\n",
              "      <td>-1194.0993</td>\n",
              "    </tr>\n",
              "    <tr>\n",
              "      <th>Pennsylvania</th>\n",
              "      <td>116496.3620</td>\n",
              "      <td>-15565.4035</td>\n",
              "    </tr>\n",
              "    <tr>\n",
              "      <th>Rhode Island</th>\n",
              "      <td>22627.9560</td>\n",
              "      <td>7285.6293</td>\n",
              "    </tr>\n",
              "    <tr>\n",
              "      <th>South Carolina</th>\n",
              "      <td>8481.7100</td>\n",
              "      <td>1769.0566</td>\n",
              "    </tr>\n",
              "    <tr>\n",
              "      <th>South Dakota</th>\n",
              "      <td>1315.5600</td>\n",
              "      <td>394.8283</td>\n",
              "    </tr>\n",
              "    <tr>\n",
              "      <th>Tennessee</th>\n",
              "      <td>30661.8730</td>\n",
              "      <td>-5341.6936</td>\n",
              "    </tr>\n",
              "    <tr>\n",
              "      <th>Texas</th>\n",
              "      <td>170124.5418</td>\n",
              "      <td>-25750.9833</td>\n",
              "    </tr>\n",
              "    <tr>\n",
              "      <th>Utah</th>\n",
              "      <td>11220.0560</td>\n",
              "      <td>2546.5335</td>\n",
              "    </tr>\n",
              "    <tr>\n",
              "      <th>Vermont</th>\n",
              "      <td>8929.3700</td>\n",
              "      <td>2244.9783</td>\n",
              "    </tr>\n",
              "    <tr>\n",
              "      <th>Virginia</th>\n",
              "      <td>70636.7200</td>\n",
              "      <td>18597.9504</td>\n",
              "    </tr>\n",
              "    <tr>\n",
              "      <th>Washington</th>\n",
              "      <td>138560.8100</td>\n",
              "      <td>33368.2375</td>\n",
              "    </tr>\n",
              "    <tr>\n",
              "      <th>West Virginia</th>\n",
              "      <td>1209.8240</td>\n",
              "      <td>185.9216</td>\n",
              "    </tr>\n",
              "    <tr>\n",
              "      <th>Wisconsin</th>\n",
              "      <td>32114.6100</td>\n",
              "      <td>8401.8004</td>\n",
              "    </tr>\n",
              "    <tr>\n",
              "      <th>Wyoming</th>\n",
              "      <td>1603.1360</td>\n",
              "      <td>100.1960</td>\n",
              "    </tr>\n",
              "  </tbody>\n",
              "</table>\n",
              "</div>"
            ],
            "text/plain": [
              "                            Sales      Profit\n",
              "State                                        \n",
              "Alabama                19510.6400   5786.8253\n",
              "Arizona                35282.0010  -3427.9246\n",
              "Arkansas               11678.1300   4008.6871\n",
              "California            457576.2715  76330.7891\n",
              "Colorado               32108.1180  -6527.8579\n",
              "Connecticut            13384.3570   3511.4918\n",
              "Delaware               27451.0690   9977.3748\n",
              "District of Columbia    2865.0200   1059.5893\n",
              "Florida                89473.7080  -3399.3017\n",
              "Georgia                49095.8400  16250.0433\n",
              "Idaho                   4382.4860    826.7231\n",
              "Illinois               80162.5370 -12601.6500\n",
              "Indiana                53555.3600  18382.9363\n",
              "Iowa                    4579.7600   1183.8119\n",
              "Kansas                  2914.3100    836.4435\n",
              "Kentucky               36591.7500  11199.6966\n",
              "Louisiana               9217.0300   2196.1023\n",
              "Maine                   1270.5300    454.4862\n",
              "Maryland               23705.5230   7031.1788\n",
              "Massachusetts          28634.4340   6785.5016\n",
              "Michigan               75879.6440  24428.0903\n",
              "Minnesota              29863.1500  10823.1874\n",
              "Mississippi            10771.3400   3172.9762\n",
              "Missouri               22205.1500   6436.2105\n",
              "Montana                 5589.3520   1833.3285\n",
              "Nebraska                7464.9300   2037.0942\n",
              "Nevada                 16729.1020   3316.7659\n",
              "New Hampshire           7292.5240   1706.5028\n",
              "New Jersey             35764.3120   9772.9138\n",
              "New Mexico              4783.5220   1157.1161\n",
              "New York              310827.1510  74015.4622\n",
              "North Carolina         55603.1640  -7490.9122\n",
              "North Dakota             919.9100    230.1497\n",
              "Ohio                   77976.7640 -16959.3178\n",
              "Oklahoma               19683.3900   4853.9560\n",
              "Oregon                 17420.7820  -1194.0993\n",
              "Pennsylvania          116496.3620 -15565.4035\n",
              "Rhode Island           22627.9560   7285.6293\n",
              "South Carolina          8481.7100   1769.0566\n",
              "South Dakota            1315.5600    394.8283\n",
              "Tennessee              30661.8730  -5341.6936\n",
              "Texas                 170124.5418 -25750.9833\n",
              "Utah                   11220.0560   2546.5335\n",
              "Vermont                 8929.3700   2244.9783\n",
              "Virginia               70636.7200  18597.9504\n",
              "Washington            138560.8100  33368.2375\n",
              "West Virginia           1209.8240    185.9216\n",
              "Wisconsin              32114.6100   8401.8004\n",
              "Wyoming                 1603.1360    100.1960"
            ]
          },
          "metadata": {},
          "execution_count": 20
        }
      ]
    },
    {
      "cell_type": "code",
      "metadata": {
        "colab": {
          "base_uri": "https://localhost:8080/",
          "height": 728
        },
        "id": "tM12jsumOu-H",
        "outputId": "9e06a22c-ddfc-459c-a056-1d236dde1956"
      },
      "source": [
        "# visualizing above results\n",
        "sale_profit_sum_state.plot.bar(figsize = (20,10),title = \"State Vs Sales and Profit\")\n",
        "plt.ylabel(\"Sales and Profit\")"
      ],
      "execution_count": 21,
      "outputs": [
        {
          "output_type": "execute_result",
          "data": {
            "text/plain": [
              "Text(0, 0.5, 'Sales and Profit')"
            ]
          },
          "metadata": {},
          "execution_count": 21
        },
        {
          "output_type": "display_data",
          "data": {
            "image/png": "[encoded data removed]",
            "text/plain": [
              "<Figure size 1440x720 with 1 Axes>"
            ]
          },
          "metadata": {
            "needs_background": "light"
          }
        }
      ]
    },
    {
      "cell_type": "markdown",
      "metadata": {
        "id": "SPiofC3FPYd1"
      },
      "source": [
        "##### **Observation 5:** Lowest profit is obtained form Texas and Ohio and highest from California and New York\n"
      ]
    },
    {
      "cell_type": "markdown",
      "metadata": {
        "id": "zAaQ72uJfbAW"
      },
      "source": [
        "#### Sales and Profit of products depending on the Segment "
      ]
    },
    {
      "cell_type": "code",
      "metadata": {
        "colab": {
          "base_uri": "https://localhost:8080/",
          "height": 227
        },
        "id": "jgWL4dwIQKBG",
        "outputId": "33c3a350-703b-48cd-dbfa-bdb2100b3a96"
      },
      "source": [
        "sale_profit_sum_seg = df.groupby('Segment')['Sales','Profit'].sum()\n",
        "sale_profit_sum_seg"
      ],
      "execution_count": 22,
      "outputs": [
        {
          "output_type": "stream",
          "text": [
            "/usr/local/lib/python3.7/dist-packages/ipykernel_launcher.py:1: FutureWarning: Indexing with multiple keys (implicitly converted to a tuple of keys) will be deprecated, use a list instead.\n",
            "  \"\"\"Entry point for launching an IPython kernel.\n"
          ],
          "name": "stderr"
        },
        {
          "output_type": "execute_result",
          "data": {
            "text/html": [
              "<div>\n",
              "<style scoped>\n",
              "    .dataframe tbody tr th:only-of-type {\n",
              "        vertical-align: middle;\n",
              "    }\n",
              "\n",
              "    .dataframe tbody tr th {\n",
              "        vertical-align: top;\n",
              "    }\n",
              "\n",
              "    .dataframe thead th {\n",
              "        text-align: right;\n",
              "    }\n",
              "</style>\n",
              "<table border=\"1\" class=\"dataframe\">\n",
              "  <thead>\n",
              "    <tr style=\"text-align: right;\">\n",
              "      <th></th>\n",
              "      <th>Sales</th>\n",
              "      <th>Profit</th>\n",
              "    </tr>\n",
              "    <tr>\n",
              "      <th>Segment</th>\n",
              "      <th></th>\n",
              "      <th></th>\n",
              "    </tr>\n",
              "  </thead>\n",
              "  <tbody>\n",
              "    <tr>\n",
              "      <th>Consumer</th>\n",
              "      <td>1.160833e+06</td>\n",
              "      <td>134007.4413</td>\n",
              "    </tr>\n",
              "    <tr>\n",
              "      <th>Corporate</th>\n",
              "      <td>7.060701e+05</td>\n",
              "      <td>91954.9798</td>\n",
              "    </tr>\n",
              "    <tr>\n",
              "      <th>Home Office</th>\n",
              "      <td>4.292927e+05</td>\n",
              "      <td>60279.0015</td>\n",
              "    </tr>\n",
              "  </tbody>\n",
              "</table>\n",
              "</div>"
            ],
            "text/plain": [
              "                    Sales       Profit\n",
              "Segment                               \n",
              "Consumer     1.160833e+06  134007.4413\n",
              "Corporate    7.060701e+05   91954.9798\n",
              "Home Office  4.292927e+05   60279.0015"
            ]
          },
          "metadata": {},
          "execution_count": 22
        }
      ]
    },
    {
      "cell_type": "code",
      "metadata": {
        "colab": {
          "base_uri": "https://localhost:8080/",
          "height": 690
        },
        "id": "8mv5DRMMRW4F",
        "outputId": "6a757ae8-c086-4a5d-c60e-3bc7bac58bc6"
      },
      "source": [
        "# visualizing above results\n",
        "sale_profit_sum_seg.plot.bar(figsize = (10,10),title = \"Segment Vs Sales and Profit\")\n",
        "plt.ylabel(\"Sales and Profit\")"
      ],
      "execution_count": 23,
      "outputs": [
        {
          "output_type": "execute_result",
          "data": {
            "text/plain": [
              "Text(0, 0.5, 'Sales and Profit')"
            ]
          },
          "metadata": {},
          "execution_count": 23
        },
        {
          "output_type": "display_data",
          "data": {
            "image/png": "[encoded data removed]",
            "text/plain": [
              "<Figure size 720x720 with 1 Axes>"
            ]
          },
          "metadata": {
            "needs_background": "light"
          }
        }
      ]
    },
    {
      "cell_type": "markdown",
      "metadata": {
        "id": "eZRoLLMfVWn8"
      },
      "source": [
        "##### **Observation 6:**Maximum sale & profit is for the Consumer Segment "
      ]
    },
    {
      "cell_type": "markdown",
      "metadata": {
        "id": "iMEse8Gvft7c"
      },
      "source": [
        "#### Sales and Profit of products depending on the Shiping Mode of Products"
      ]
    },
    {
      "cell_type": "code",
      "metadata": {
        "colab": {
          "base_uri": "https://localhost:8080/",
          "height": 258
        },
        "id": "-FZ0lusNWMNJ",
        "outputId": "ee1ebb3c-d2d2-41f7-c24a-b057e2b5e4b0"
      },
      "source": [
        "sale_profit_sum_ship = df.groupby('Ship Mode')['Sales','Profit'].sum()\n",
        "sale_profit_sum_ship"
      ],
      "execution_count": 24,
      "outputs": [
        {
          "output_type": "stream",
          "text": [
            "/usr/local/lib/python3.7/dist-packages/ipykernel_launcher.py:1: FutureWarning: Indexing with multiple keys (implicitly converted to a tuple of keys) will be deprecated, use a list instead.\n",
            "  \"\"\"Entry point for launching an IPython kernel.\n"
          ],
          "name": "stderr"
        },
        {
          "output_type": "execute_result",
          "data": {
            "text/html": [
              "<div>\n",
              "<style scoped>\n",
              "    .dataframe tbody tr th:only-of-type {\n",
              "        vertical-align: middle;\n",
              "    }\n",
              "\n",
              "    .dataframe tbody tr th {\n",
              "        vertical-align: top;\n",
              "    }\n",
              "\n",
              "    .dataframe thead th {\n",
              "        text-align: right;\n",
              "    }\n",
              "</style>\n",
              "<table border=\"1\" class=\"dataframe\">\n",
              "  <thead>\n",
              "    <tr style=\"text-align: right;\">\n",
              "      <th></th>\n",
              "      <th>Sales</th>\n",
              "      <th>Profit</th>\n",
              "    </tr>\n",
              "    <tr>\n",
              "      <th>Ship Mode</th>\n",
              "      <th></th>\n",
              "      <th></th>\n",
              "    </tr>\n",
              "  </thead>\n",
              "  <tbody>\n",
              "    <tr>\n",
              "      <th>First Class</th>\n",
              "      <td>3.513805e+05</td>\n",
              "      <td>48953.6561</td>\n",
              "    </tr>\n",
              "    <tr>\n",
              "      <th>Same Day</th>\n",
              "      <td>1.283217e+05</td>\n",
              "      <td>15871.8869</td>\n",
              "    </tr>\n",
              "    <tr>\n",
              "      <th>Second Class</th>\n",
              "      <td>4.591770e+05</td>\n",
              "      <td>57446.6516</td>\n",
              "    </tr>\n",
              "    <tr>\n",
              "      <th>Standard Class</th>\n",
              "      <td>1.357316e+06</td>\n",
              "      <td>163969.2280</td>\n",
              "    </tr>\n",
              "  </tbody>\n",
              "</table>\n",
              "</div>"
            ],
            "text/plain": [
              "                       Sales       Profit\n",
              "Ship Mode                                \n",
              "First Class     3.513805e+05   48953.6561\n",
              "Same Day        1.283217e+05   15871.8869\n",
              "Second Class    4.591770e+05   57446.6516\n",
              "Standard Class  1.357316e+06  163969.2280"
            ]
          },
          "metadata": {},
          "execution_count": 24
        }
      ]
    },
    {
      "cell_type": "code",
      "metadata": {
        "colab": {
          "base_uri": "https://localhost:8080/",
          "height": 704
        },
        "id": "AMK37Ck0Wc_M",
        "outputId": "4a396feb-0345-40d5-b91a-dcf49b7b6996"
      },
      "source": [
        "# visualizing above results\n",
        "sale_profit_sum_ship.plot.bar(figsize = (10,10),title = \"Ship Mode Vs Sales and Profit\")\n",
        "plt.ylabel(\"Sales and Profit\")"
      ],
      "execution_count": 25,
      "outputs": [
        {
          "output_type": "execute_result",
          "data": {
            "text/plain": [
              "Text(0, 0.5, 'Sales and Profit')"
            ]
          },
          "metadata": {},
          "execution_count": 25
        },
        {
          "output_type": "display_data",
          "data": {
            "image/png": "[encoded data removed]",
            "text/plain": [
              "<Figure size 720x720 with 1 Axes>"
            ]
          },
          "metadata": {
            "needs_background": "light"
          }
        }
      ]
    },
    {
      "cell_type": "code",
      "metadata": {
        "colab": {
          "base_uri": "https://localhost:8080/",
          "height": 608
        },
        "id": "3LOl42OVNkQD",
        "outputId": "dcccbd12-2c1a-4bf4-80ce-21bd63882fa1"
      },
      "source": [
        "df.hist(figsize=(10,10),bins=50)\n",
        "plt.show()"
      ],
      "execution_count": 26,
      "outputs": [
        {
          "output_type": "display_data",
          "data": {
            "image/png": "[encoded data removed]",
            "text/plain": [
              "<Figure size 720x720 with 4 Axes>"
            ]
          },
          "metadata": {
            "needs_background": "light"
          }
        }
      ]
    },
    {
      "cell_type": "markdown",
      "metadata": {
        "id": "e6yk6L9mN3ec"
      },
      "source": [
        "##### **Observation 8:**a)Discount mostly given is from 0-20% \n",
        "##### b)Quantity purchased by most of the customers is 2-3\n",
        "\n",
        "\n"
      ]
    },
    {
      "cell_type": "markdown",
      "metadata": {
        "id": "ek0R4HYgXz1p"
      },
      "source": [
        "#### Plotting Profit V/S Sales"
      ]
    },
    {
      "cell_type": "code",
      "metadata": {
        "colab": {
          "base_uri": "https://localhost:8080/",
          "height": 279
        },
        "id": "CTXiFD2zOZNR",
        "outputId": "fc03b413-c9ec-4433-e7c0-e0ecbdd82030"
      },
      "source": [
        "sns.lineplot(x='Sales',y='Profit',label='Profit',data=df)\n",
        "plt.legend()\n",
        "plt.show()"
      ],
      "execution_count": 27,
      "outputs": [
        {
          "output_type": "display_data",
          "data": {
            "image/png": "[encoded data removed]",
            "text/plain": [
              "<Figure size 432x288 with 1 Axes>"
            ]
          },
          "metadata": {
            "needs_background": "light"
          }
        }
      ]
    },
    {
      "cell_type": "markdown",
      "metadata": {
        "id": "UujuURw1YJNa"
      },
      "source": [
        "##### **Observation 9:**As sales increases profit also increases\n"
      ]
    },
    {
      "cell_type": "markdown",
      "metadata": {
        "id": "9RDtsne9YTR4"
      },
      "source": [
        "##### Plotting Profit V/S Discount"
      ]
    },
    {
      "cell_type": "code",
      "metadata": {
        "colab": {
          "base_uri": "https://localhost:8080/",
          "height": 279
        },
        "id": "gukhHn5MYPK6",
        "outputId": "42680d59-622d-46fc-d6e0-3b329d927de3"
      },
      "source": [
        "sns.lineplot(x='Discount',y='Profit',label='Profit',data=df)\n",
        "plt.legend()\n",
        "plt.show()"
      ],
      "execution_count": 28,
      "outputs": [
        {
          "output_type": "display_data",
          "data": {
            "image/png": "[encoded data removed]",
            "text/plain": [
              "<Figure size 432x288 with 1 Axes>"
            ]
          },
          "metadata": {
            "needs_background": "light"
          }
        }
      ]
    },
    {
      "cell_type": "markdown",
      "metadata": {
        "id": "KMoS--FtYkq1"
      },
      "source": [
        "##### **Observation 10:** Here we cannot infer any correlation between Profit & Discount"
      ]
    },
    {
      "cell_type": "markdown",
      "metadata": {
        "id": "pTNpJbPOY2N4"
      },
      "source": [
        "#### Plotting Profit VS Quantity"
      ]
    },
    {
      "cell_type": "code",
      "metadata": {
        "colab": {
          "base_uri": "https://localhost:8080/",
          "height": 279
        },
        "id": "BOuPyuRRY25M",
        "outputId": "edf298f9-f7d4-445c-ffae-c67d09790f1f"
      },
      "source": [
        "sns.lineplot(x='Quantity',y='Profit',label='Profit',data=df)\n",
        "plt.legend()\n",
        "plt.show()"
      ],
      "execution_count": 29,
      "outputs": [
        {
          "output_type": "display_data",
          "data": {
            "image/png": "[encoded data removed]",
            "text/plain": [
              "<Figure size 432x288 with 1 Axes>"
            ]
          },
          "metadata": {
            "needs_background": "light"
          }
        }
      ]
    },
    {
      "cell_type": "markdown",
      "metadata": {
        "id": "EfINsvZYZHV1"
      },
      "source": [
        "##### **Observation 11:**Higher the quantity greater the Profit\n"
      ]
    },
    {
      "cell_type": "markdown",
      "metadata": {
        "id": "4rGaCsoJg2tU"
      },
      "source": [
        "# Observation Summary:"
      ]
    },
    {
      "cell_type": "markdown",
      "metadata": {
        "id": "ok8kzby4jLMN"
      },
      "source": [
        "1)The technology category of products has the hihest sales and profit.\n",
        "\n",
        "2)Furniture category have the lowest Profit.\n",
        "\n",
        "3)The store has wide variety of office supplies especially in binders and paper department\n",
        "\n",
        "4)Phones have highest sales and profits\n",
        "\n",
        "5)Tables have the highest loses\n",
        "\n",
        "6)Sales and profit is the highest in the western region and lowest in the central region\n",
        "\n",
        "7)California & New york has the highest no of customers & hence Profit & Sales is maximum in these states and lowest in Texas\n",
        "\n",
        "8)Profit is high for Consumer Segment\n",
        "\n",
        "9)Profit and sales are higher for Standard shipment as more customers are opt for it.\n",
        "\n",
        "10)Customers tend to buy 2 to 3 products together\n",
        "\n",
        "11)Mostly discount is given in the range of 0 to 20%\n",
        "\n",
        "12)With increase in sales Profit increases\n",
        "\n",
        "13)With increase in Quantity Profit increases"
      ]
    }
  ]
}